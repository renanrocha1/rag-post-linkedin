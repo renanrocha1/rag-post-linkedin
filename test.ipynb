{
 "cells": [
  {
   "cell_type": "markdown",
   "metadata": {},
   "source": [
    "# RAG para responder perguntas de PDF"
   ]
  },
  {
   "cell_type": "code",
   "execution_count": 7,
   "metadata": {},
   "outputs": [],
   "source": [
    "from langchain_community.document_loaders import PyPDFLoader\n",
    "from langchain.text_splitter import RecursiveCharacterTextSplitter\n",
    "from langchain_openai import OpenAIEmbeddings\n",
    "from langchain_openai import ChatOpenAI\n",
    "from langchain_core.prompts import ChatPromptTemplate\n",
    "from langchain_chroma import Chroma\n",
    "from chromadb.config import Settings\n",
    "import chromadb\n",
    "import re"
   ]
  },
  {
   "cell_type": "markdown",
   "metadata": {},
   "source": [
    "### Carregando páginas do PDF"
   ]
  },
  {
   "cell_type": "code",
   "execution_count": 2,
   "metadata": {},
   "outputs": [],
   "source": [
    "loader = PyPDFLoader('WD10M44530W_03786S-00_BPT.pdf')\n",
    "pages = [page async for page in loader.alazy_load()]\n"
   ]
  },
  {
   "cell_type": "code",
   "execution_count": 7,
   "metadata": {},
   "outputs": [
    {
     "data": {
      "text/plain": [
       "{'source': 'WD10M44530W_03786S-00_BPT.pdf', 'page': 0}"
      ]
     },
     "execution_count": 7,
     "metadata": {},
     "output_type": "execute_result"
    }
   ],
   "source": [
    "pages[0].metadata"
   ]
  },
  {
   "cell_type": "markdown",
   "metadata": {},
   "source": [
    "### Function para limpeza de texto\n",
    "Remoção de caracteres em branco e especiais"
   ]
  },
  {
   "cell_type": "code",
   "execution_count": 3,
   "metadata": {},
   "outputs": [],
   "source": [
    "def clean_text(text:str):\n",
    "    ct = text.strip()\n",
    "    ct = re.sub(r'\\s+', ' ', ct)\n",
    "    ct = re.sub(r'[^\\w\\s]','', ct)\n",
    "    return ct"
   ]
  },
  {
   "cell_type": "code",
   "execution_count": 4,
   "metadata": {},
   "outputs": [],
   "source": [
    "for page in pages:\n",
    "    text = clean_text(page.page_content)\n",
    "    page.page_content = text"
   ]
  },
  {
   "cell_type": "markdown",
   "metadata": {},
   "source": [
    "### Divisão do documento em blocos de 500 palavras"
   ]
  },
  {
   "cell_type": "code",
   "execution_count": 5,
   "metadata": {},
   "outputs": [],
   "source": [
    "splitter = RecursiveCharacterTextSplitter(chunk_size=500, chunk_overlap=50, length_function=len)\n",
    "docs = splitter.transform_documents(pages)"
   ]
  },
  {
   "cell_type": "code",
   "execution_count": 14,
   "metadata": {},
   "outputs": [],
   "source": [
    "c_page = 0\n",
    "cid = 0\n",
    "for d in docs:\n",
    "    if d.metadata['page'] > c_page:\n",
    "        c_page = d.metadata['page']\n",
    "        cid = 0\n",
    "    d.metadata = {**d.metadata, 'cid':cid}\n",
    "    cid +=1"
   ]
  },
  {
   "cell_type": "code",
   "execution_count": 30,
   "metadata": {},
   "outputs": [],
   "source": [
    "from uuid import uuid4\n",
    "uuids = [str(uuid4()) for _ in range(len(docs))]"
   ]
  },
  {
   "cell_type": "markdown",
   "metadata": {},
   "source": [
    "### Adicionando documentos na vector store (banco de dados de vetores)\n",
    "**OBS.: deve alterar para usar sua chave da API da OpenAI**"
   ]
  },
  {
   "cell_type": "code",
   "execution_count": 6,
   "metadata": {},
   "outputs": [],
   "source": [
    "client = chromadb.HttpClient(settings=Settings(allow_reset=True))\n",
    "embeddings = OpenAIEmbeddings(api_key='chave openAI aqui')\n",
    "\n",
    "vector_store = Chroma(collection_name='manual_maq', client=client, embedding_function=embeddings)"
   ]
  },
  {
   "cell_type": "code",
   "execution_count": 32,
   "metadata": {},
   "outputs": [
    {
     "data": {
      "text/plain": [
       "['db3a8fe5-f029-475c-b2f8-aba2e7e52b88',\n",
       " 'af8354d5-d499-4e50-8451-6c3221f2db91',\n",
       " '64d85a3e-a4d1-473b-82bf-a28e6466295e',\n",
       " 'b6df8021-1ecc-4bc7-9eb7-0b09562f14d9',\n",
       " 'f5ff10b8-f086-4047-a1d7-7d161c8b76e9',\n",
       " 'd52eeb6f-c0ef-45e1-a6cf-a0fd1e5ea78e',\n",
       " 'd8827561-6a99-4903-9efc-b52d46d74259',\n",
       " '33668887-fffa-468f-8211-e7c9bc8ff9a7',\n",
       " 'a9f9aa42-4912-4a45-be23-746993702532',\n",
       " 'e2204e94-3df5-4930-aa41-eb774c7e72f8',\n",
       " '7a1fa2ad-0ff0-42e7-ab28-f86c088502f6',\n",
       " '41899731-9615-435d-84b0-a8925ffef60f',\n",
       " '8cc09530-2272-4625-b43d-daa0b07e5658',\n",
       " '817de10c-9bac-4afe-be90-d3545bfa821a',\n",
       " '63cae1d2-09d4-45e0-82f4-3096544b9e0a',\n",
       " '9c32d221-ebf2-4da5-97f6-91b10fdcb187',\n",
       " '866e6ccc-00fb-4b18-937d-b2236a57860d',\n",
       " 'c2a3c97b-d306-46a4-9e17-e1a28a5d8059',\n",
       " '3aba46f6-687d-4f59-9756-c105f70ec323',\n",
       " '60782c43-b564-4c46-b08a-f0a4af69ea08',\n",
       " '3f337226-0df3-4319-a86d-635674298e1e',\n",
       " '87279cf4-1d56-4d72-9905-a987781ab7a5',\n",
       " '687bef00-1c36-490b-8567-87b674523fea',\n",
       " '105cfec5-f3e9-479d-b582-385b58baf74e',\n",
       " '06758738-7c11-4cb8-9862-3db7a5b46833',\n",
       " '51f52b1c-1f5d-4218-a39e-26515bb35fbd',\n",
       " '2531f236-f7b0-4279-a6a2-77e229549bb7',\n",
       " '0efa5ab7-a04a-4439-9944-8e9e7105f7fa',\n",
       " '53cd1f8c-b299-4d3d-8b21-e77afa201040',\n",
       " '3e1aa43a-af52-44f9-8f93-89c2139ab6dc',\n",
       " '394fa9fd-6589-4193-a50d-b756c931fc99',\n",
       " '556e563e-6037-4873-bead-31de53e18639',\n",
       " 'f4d5209b-7996-4d39-b7ce-e8f5330d48d5',\n",
       " '74ba7259-c1cc-47f5-91e1-2c4969ec0387',\n",
       " '36a2d096-988c-4a98-80a2-6fd42fb108aa',\n",
       " '2adee843-8cd0-4126-9b77-8e34d68271f1',\n",
       " 'e49646bb-eac7-4f48-925f-6445262a1fd4',\n",
       " 'aab70371-f553-407d-a9fa-cf2e08cee883',\n",
       " 'e3b96e12-e589-4cd3-bcff-35cf86134af4',\n",
       " '822b72ab-e5ae-413e-9199-9edd0c174a36',\n",
       " 'edc3cf1f-0b89-4a73-b7dd-fc0c2a48cec2',\n",
       " 'e7b0208b-deef-4d22-bcf0-487fef6426b6',\n",
       " '83ecc2a2-14ea-4a87-911d-c99972b0b537',\n",
       " '6ae65df7-055b-42b3-8b53-cbdcd69ce833',\n",
       " 'f426cc54-a3ae-4198-ad0d-e2d6ed7ccc54',\n",
       " 'c89e77e5-19aa-4481-b949-a1dcfb50feff',\n",
       " 'ceaba5e6-caeb-4157-a9ee-a664d10cb24d',\n",
       " '3c941f66-3212-4bd4-8852-d304b07a20c7',\n",
       " '128d7520-9f4b-4768-8e89-a5deb05f48bd',\n",
       " 'c544f7da-a614-4414-b25c-bea1250b4384',\n",
       " 'ff2716b8-9969-43d9-8c21-2c45c5766320',\n",
       " 'a5d13f2e-f755-4b7f-9865-d2dc629cbbb1',\n",
       " '9a0be6e6-996d-4de0-bb2b-9ac8059748d9',\n",
       " '35d7142f-e344-4a49-901e-2613e302bb6b',\n",
       " '709e5fca-0d62-431a-874c-2744153c0906',\n",
       " 'eb742ffe-c1da-4065-8e9a-8482f66c85fd',\n",
       " 'f5ad42a1-0a4e-4237-a295-f4f25492702e',\n",
       " 'b4373bc0-a92a-4c42-b82d-487e287a80f2',\n",
       " 'ed1b8e3b-a127-4c5c-b45a-fb2bf7cf4d8c',\n",
       " '50c3fbde-4679-4743-9119-19405dcdb914',\n",
       " 'db74b4cc-297f-40f2-8d9a-06c83336eff9',\n",
       " 'ba0e9910-d8b9-4044-adeb-267066fa2184',\n",
       " 'f6c40b72-5028-4a46-ba0a-03664b7d7283',\n",
       " '2b2f7175-66c4-429e-a59b-1ef426efde39',\n",
       " 'a5a576e9-e86c-4998-a5f4-5f38fa16e3a8',\n",
       " '28d5a8e8-6412-40a1-a230-236bd3460d5c',\n",
       " '9175426f-53a3-4970-b727-3e9c87aa97d3',\n",
       " '672f4d17-0f13-46e7-9495-4728757b2344',\n",
       " '518471dc-8cc5-4dde-8bd5-97f6a5d27996',\n",
       " '62702cf2-8a77-4184-94f1-ff9a632e7448',\n",
       " '54859bda-7c95-4b64-b464-be1c226eaac5',\n",
       " '7b01c0b5-e2c2-42b6-b8b9-fc12fbceb0f4',\n",
       " '2d224439-1e2d-49a1-8ee5-4516853f29ed',\n",
       " 'e9dab3f2-c642-469e-975d-fa47783640eb',\n",
       " '0ceabfad-c6be-4453-9c51-89ef6882bd6a',\n",
       " '1e726319-ae8e-41de-97e7-5d2e1abb4b3e',\n",
       " 'de883adf-bdbd-4606-8df2-88549d1f2e13',\n",
       " '7fa231ab-9b0e-4c5a-bd25-83c24361c009',\n",
       " '414f8357-14e1-4adb-987a-4529a420daad',\n",
       " '414fbb42-c80c-4883-a7f5-9b2a123ade69',\n",
       " 'a068cf3d-a8d1-4334-b13c-581bdeb16924',\n",
       " 'f69ac947-5c21-424e-b943-43154ae132fa',\n",
       " 'd0a3e02f-4f8f-4ea4-a9f8-44324c74d8c4',\n",
       " '360f1a51-9400-4a34-ac06-7fe9c309b831',\n",
       " '2f5d0273-2239-4f6e-a57f-ff73309ec531',\n",
       " '248e5fd8-51e4-4406-b80f-a7dc666e326f',\n",
       " '801ce2f5-9b32-44bf-90c7-9e3a0bc43065',\n",
       " '9132d24d-d697-4dfc-8275-cd2781114c76',\n",
       " '24f1a234-6351-4bb5-91e7-ae52cde90c33',\n",
       " 'bd2ac7ed-6c86-4f4a-b045-009f7029150f',\n",
       " '5069c8a2-e7e3-4efe-8e9a-83ef2e80c64e',\n",
       " '87cfa7e8-57f1-43c6-9b33-07e1ff70ed62',\n",
       " 'b62185f8-702d-4e07-a40e-78923e45afed',\n",
       " '9ab7e776-b482-4cf7-8979-bc4e1ce31968',\n",
       " 'd2b897e3-5e93-4997-9d3f-5588bb0a547b',\n",
       " 'ba03689d-5cfc-4b55-b70b-a48d055ae22b',\n",
       " '8c4d6192-1187-4e69-908c-873b239ff227',\n",
       " '5c63f9ad-0e76-4d58-9051-095d410970c1',\n",
       " 'd775ae23-0daf-4fdf-a79b-27d9b8bc7fb7',\n",
       " '21f98bb8-2b4a-4d27-9cd7-ec014adaeb67',\n",
       " 'd87ba18b-9849-4520-81e5-6acd3bd0964b',\n",
       " '0bd8015d-c725-448b-b940-677ec3cba53a',\n",
       " 'd494dd7a-bab2-46dd-975a-38aa1553d6fe',\n",
       " '12673ae0-059b-4e93-9a33-21e295ee6ebf',\n",
       " 'bf7cceb0-6071-47ab-ab07-a40ff758e290',\n",
       " '44bf1c75-08d2-4047-b4cc-21b145a1ed05',\n",
       " '4061ea8d-3d57-4c59-a857-ebc1b1af4cff',\n",
       " '5a320290-48ed-4d3a-98de-367c4a056e04',\n",
       " 'a6112f7a-ab2f-481f-8ad0-2b3d72c22a82',\n",
       " '4c2d9abb-6ee2-420e-8eb4-98362d3fa5fa',\n",
       " 'c4ae79eb-77ab-41b1-bdca-a82e00a5e114',\n",
       " '77592bda-3576-4664-956c-a80265d0d2c3',\n",
       " '1bfb56e0-54cb-49a3-8d02-8a88b31cae2c',\n",
       " 'acfb1ddb-13e1-47ec-bc1b-b6488557ef62',\n",
       " '6264893b-4497-40c2-82d5-2db7fbb6cefd',\n",
       " '2e9f7417-34c4-4414-8da0-e82b6ebd0aab',\n",
       " '46eab790-f2f8-4a24-956f-e0494c3a8374',\n",
       " '862827d4-a198-40e0-a681-0be25fe53982',\n",
       " '5059caff-4833-4a67-88e9-dd3520492819',\n",
       " 'fd0347cf-7164-4992-8bba-48f807ed67f8',\n",
       " 'f204a66c-df59-421c-b4f8-0afd4e15bb31',\n",
       " '746e6e49-46c8-4fdf-b883-e323fec9aead',\n",
       " 'dc851cf7-ccd0-49d2-8b91-e6afa24b824d',\n",
       " 'a6a8a040-c45d-4b47-bfc9-ce3a6dbc7987',\n",
       " '75e889c4-cf56-4adf-891e-0dd9815296bb',\n",
       " '8d094d60-cc50-41ee-8cf8-371f0a9758a8',\n",
       " 'd05891b1-3bcc-4b33-b1fe-1cc397175c72',\n",
       " '5f2aef48-eaed-4dc0-bfef-9ff86a9d1e17',\n",
       " '81c49fde-3073-4983-afd3-f85579109e8b',\n",
       " '53033e94-c639-40f4-96ea-7c5d3b602776',\n",
       " 'd03868c0-e7df-49ab-84f7-7fc20c7fa771',\n",
       " '0ddd635a-53b6-46c8-9052-82c06b904887',\n",
       " '32c2564d-019e-4eb4-83d3-e1d0b276af5f',\n",
       " '556ce7b7-ce43-41dc-8ca2-3f463523e1a9',\n",
       " '56c0bcab-f1a3-4013-895a-69d33015b961',\n",
       " '32aac852-3238-4a3c-b929-97bac575e341',\n",
       " 'bc290ca7-ed41-4074-b2d7-0dc65f388772',\n",
       " 'a3d5bdb0-bc14-4ecf-9ac2-8ef0b70be79d',\n",
       " '181005e0-f330-4ba0-aa05-21ac3e6c1b32',\n",
       " 'adf61fdf-64c8-4b84-ae7b-285117fbdd3e',\n",
       " '79804a2f-3f28-4488-85c1-5247e9afe5ac',\n",
       " '3648b432-cf39-4bde-ae38-c6f3e7bd8702',\n",
       " '47af4f08-05d8-47f1-a918-b76baa9d5378',\n",
       " '4ec6dbff-c0a5-48c7-a226-fd0d90ffcfdf',\n",
       " '1a3c197a-fac4-4cf0-8f2e-bcd84b684765',\n",
       " '22a877e3-6bb6-4f9d-9439-d42d27e7f24e',\n",
       " '509a32db-2e07-477a-b965-eac8f1de353e',\n",
       " '7c894616-ac0a-4141-b62e-acf40d83fdc5',\n",
       " '124cbad0-3642-4b5d-9ee4-fa2875b8c760',\n",
       " '1d677702-4ba0-4e34-be0a-52c7072fbf3f',\n",
       " 'de9f3219-302c-4991-ab37-c284f69ccd95',\n",
       " '7533d1ea-7b7d-4acd-8eac-0941ffd6914b',\n",
       " 'ec7301b5-9df2-4162-a0b4-e980d1c72392',\n",
       " 'ee59f846-dd71-4e13-9a9e-ea4839c2ea65',\n",
       " 'e7a02933-8cb0-4af8-a687-e8d6c4e16c96',\n",
       " '9d27eedf-1430-4337-8585-d764a22e2b36',\n",
       " '6e742488-294e-4fad-938e-d2c7d272c89c',\n",
       " 'aa14ccc3-fb9d-4767-a5f5-6d7a7ece83c4',\n",
       " 'b25899e1-9a49-49c3-8d26-89a54a5e85e5',\n",
       " 'ab7274a1-7be0-498a-873e-b1eb6f6e2211',\n",
       " '11b1d802-7b5c-4c4e-a32d-fc36f2df7d7a',\n",
       " '1f4ecf90-a4df-4518-9f14-87712b3ee9d7',\n",
       " 'a6f282fc-5a58-425e-9a66-abe540a214c0',\n",
       " '7cc57673-2591-43b5-8ff8-bac41cac4c12',\n",
       " '180f4687-df57-4887-ab38-689366af59d0',\n",
       " 'a6938299-eaac-443d-9a62-a9985dc9210e',\n",
       " '97f61f87-1799-43c2-88a5-d7a9ebdfdba1',\n",
       " '3ea290b1-2e00-44ce-9c31-fe708ab72948',\n",
       " 'adeed5cd-0b36-48cb-8fe8-5f70d9db2495',\n",
       " 'a4698b26-dc2b-4a5b-8d1d-983c829b5822',\n",
       " '368ba188-6992-4900-ba85-11fd218ee885',\n",
       " '52629651-f1ec-4ecd-bd78-d5f3ff05ff8e',\n",
       " 'f07b1044-ac5c-45c5-b12c-f52fab9d76c6',\n",
       " 'a1267537-53c5-4c93-9526-ff059d8a4f09',\n",
       " 'e7e09ffe-fb92-4a30-b01f-b6e4d30b0bb4',\n",
       " 'affa6577-b97a-45dc-b3d3-d40f5ef6ae65',\n",
       " 'd9ca15e4-df60-4236-8fba-c8197b022519',\n",
       " 'fec477da-41b5-469c-bd92-01c76b9ac645',\n",
       " 'a145c5df-a7d7-4211-b5b3-51f5c77f631e',\n",
       " '1e9d1b51-ef03-4bf7-b6da-5d5f68b23870',\n",
       " 'b32f8d81-874d-471a-99ac-2ecb4247cdcf',\n",
       " '27811d9e-7f9e-4c65-851a-1272e617385a',\n",
       " 'b5a401b8-4736-405a-917a-0fa33285e518',\n",
       " '1cf242d6-c785-4896-a610-28e7099014b8',\n",
       " '920f0f2d-fb4d-4e14-9eeb-a8e4892d83e1',\n",
       " '48144f0c-5b73-4e88-b9e7-603ec77e045a',\n",
       " '47573616-f9f9-468b-adbc-2ffad3f11068',\n",
       " 'a0825abf-dd5d-4991-9ef8-56b45288aef6',\n",
       " 'a743b1d9-e2da-4f3a-ab3c-2d06be82b06d',\n",
       " '2a22e459-df66-4d84-b32d-0d5ee614739d',\n",
       " 'f6e5390e-9a3e-4abb-8440-aec0b2f81a30',\n",
       " '86c3298d-74b6-429f-9a65-7ac871dfc874',\n",
       " 'd0057dc5-149b-4618-91b2-518bc07cbd5c']"
      ]
     },
     "execution_count": 32,
     "metadata": {},
     "output_type": "execute_result"
    }
   ],
   "source": [
    "vector_store.add_documents(documents=docs, ids=uuids)"
   ]
  },
  {
   "cell_type": "markdown",
   "metadata": {},
   "source": [
    "### Criação de prompt para enviar para o modelo LLM"
   ]
  },
  {
   "cell_type": "code",
   "execution_count": 8,
   "metadata": {},
   "outputs": [
    {
     "data": {
      "text/plain": [
       "ChatPromptValue(messages=[SystemMessage(content=' Preciso de ajuda para analisar o texto a seguir. Eu farei perguntas baseadas no conteúdo e você deve usar o contexto fornecido abaixo para dar a resposta:\\n     teste ', additional_kwargs={}, response_metadata={}), HumanMessage(content='Usando o contexto fornecido, responda a pergunta: mensagem', additional_kwargs={}, response_metadata={})])"
      ]
     },
     "execution_count": 8,
     "metadata": {},
     "output_type": "execute_result"
    }
   ],
   "source": [
    "template = ChatPromptTemplate([\n",
    "    ('system', ''' Preciso de ajuda para analisar o texto a seguir. Eu farei perguntas baseadas no conteúdo e você deve usar o contexto fornecido abaixo para dar a resposta:\n",
    "     {contexto} '''),\n",
    "    ('user', 'Usando o contexto fornecido, responda a pergunta: {pergunta}')\n",
    "])\n",
    "\n",
    "template.invoke({'contexto': 'teste', 'pergunta': 'mensagem'})"
   ]
  },
  {
   "cell_type": "code",
   "execution_count": 10,
   "metadata": {},
   "outputs": [],
   "source": [
    "llm = ChatOpenAI(model='gpt-4o-mini', temperature=0, api_key='chave openAI aqui')\n",
    "chain = template | llm"
   ]
  },
  {
   "cell_type": "markdown",
   "metadata": {},
   "source": [
    "### Busca de contexto na vector store baseado na similaridade do texto da pergunta\n",
    "Irá devolver 10 registros (**k=10**)"
   ]
  },
  {
   "cell_type": "code",
   "execution_count": null,
   "metadata": {},
   "outputs": [
    {
     "data": {
      "text/plain": [
       "[Document(metadata={'cid': 0, 'page': 32, 'source': 'WD10M44530W_03786S-00_BPT.pdf'}, page_content='Português 33 Operações Somente secagem de roupas 2 3 1 4 Você pode secar suas roupas diretamente ou secar as roupas lavadas de acordo com os seguintes procedimentos 1 Pressione LigaDesliga para ligar a lavadora de roupas 2 Use o Seletor de Ciclos para selecionar o ciclo de secagem apropriado 3 Pressione a tecla Nível de Secagem para selecionar o modo de secagem apropriado 4 Pressione a tecla InícioPausa para iniciar a secagem OBSERVAÇÃO É possível economizar água e energia adicionando o ciclo'),\n",
       " Document(metadata={'cid': 1, 'page': 39, 'source': 'WD10M44530W_03786S-00_BPT.pdf'}, page_content='Secagem automática Gaveta Use esta opção para secar as roupas de algodão íntimas e de linho Modelo de 102kg6 kg Modelo de 85kg5 kg 3 kg Secagem manual Tempo de secagem Use esta opção para secar as roupas por um período de tempo específico dependendo das fibras quantidade de roupas e umidade 30  270 min em acréscimos de 30 minutos 30  270 min em acréscimos de 30 minutosOBSERVAÇÃO  O resultado da secagem pode ser diferente dependendo do ciclo de lavagem selecionado e do tipoquantidade de roupas'),\n",
       " Document(metadata={'cid': 0, 'page': 39, 'source': 'WD10M44530W_03786S-00_BPT.pdf'}, page_content='40 Português Manutenção Manutenção Utilização do ciclo de secagem Todas as opções de secagem exceto a opção Tempo de Secagem detectam o peso das roupas para exibir um tempo de secagem mais preciso e secálas mais completamente Consulte a tabela abaixo para selecionar a opção de secagem apropriada de acordo com o tipo e a quantidade de peças e a umidade que você deseja deixar Modo Opção de secagem Uso Capacidade de carga kg Secar algodão Secar Sintéticos Secagem automática Gaveta Use esta opção'),\n",
       " Document(metadata={'cid': 2, 'page': 40, 'source': 'WD10M44530W_03786S-00_BPT.pdf'}, page_content='para reduzir a temperatura  A temperatura externa da máquina aumenta quando o processo de secagem estiver em operação  Este ciclo é baseado em roupas com menos de 10 kg Consulte a tabela abaixo para obter a relação de mistura de têxteis se a relação de poliéster for mais alta do que a proporção de mistura na tabela o desempenho de secagem pode ser melhorado Carga recomendada de roupas Peso das roupas Proporção de mistura de têxteis 34 camisas de algodãopoliéster Cerca de 800g Poliéster  65'),\n",
       " Document(metadata={'cid': 1, 'page': 40, 'source': 'WD10M44530W_03786S-00_BPT.pdf'}, page_content='liberdade para secar qualquer roupa  O tempo de lavagem pode ser prolongado quando a pressão de fornecimento de água é alterada  Para a lavagem pela primeira vez recomendamos lavar 3  4 camisas de algodão poliéster  Roupas esportivas roupas feitas de material acrílico toalhas com fácil acúmulo de sujeira  Quando a temperatura interna do tambor é alta e o tempo restante é de 1 minuto o tempo de lavagem pode ser prolongado em alguns poucos minutos para reduzir a temperatura  A temperatura externa'),\n",
       " Document(metadata={'cid': 1, 'page': 1, 'source': 'WD10M44530W_03786S-00_BPT.pdf'}, page_content='32 Somente secagem de roupas 33 Visão geral do ciclo 34 Ajustes 37 Manutenção 38 Lavagem do Tambor Eco 38 Smart check 39 Utilização do ciclo de secagem 40 59 LAVARSECAR 41 AIR WASH 42 Drenagem de emergência 43 Recuperação de congelamento 47 Cuidados ao não usar a lavadora de roupas por um longo período de tempo 47 Solucionamento de problemas 48 Pontos de verificação 48 Códigos de Informações 52 Especificações 55 Tabela de cuidado com tecidos 55 Como proteger o meio ambiente 56 Ficha de'),\n",
       " Document(metadata={'cid': 2, 'page': 33, 'source': 'WD10M44530W_03786S-00_BPT.pdf'}, page_content='removendo a sujeira e as bactérias do tambor  Realize esta lavagem a cada 40 lavagens sem sabão ou alvejante  Verifique se o tambor está vazio  Não use agentes de limpeza para limpar o tambor   59 LAVARSECAR  Específico para lavar e secar rapidamente algumas roupas de tecidos sintéticos1 1 AIR WASH  Desodoriza e esteriliza as roupas por meio de um ciclo AIR WASH com temperatura mais elevada  SECAR ALGODÃO  Para secagem geral 6 5 WD10M44530W127V_03786S00_BPTindd 34 2017524 94346'),\n",
       " Document(metadata={'cid': 0, 'page': 40, 'source': 'WD10M44530W_03786S-00_BPT.pdf'}, page_content='Português 41 Manutenção 59 LAVARSECAR Para roupas levemente sujas com menos de 10 kg que você deseja lavar ou secar rapidamente OBSERVAÇÃO  A função de secagem é definida para o valor inicial Ela não pode ser liberada  Use para lavar pequenas cargas com menos de 10 kg como 4 camisas de algodão poliéster  Evite lavar roupas que não possam ser secadas com segurança pois elas podem se deformar até mesmo a temperaturas baixas portanto você não tem liberdade para secar qualquer roupa  O tempo de'),\n",
       " Document(metadata={'cid': 0, 'page': 34, 'source': 'WD10M44530W_03786S-00_BPT.pdf'}, page_content='Português 35 Operações Ciclo Descrição Carga máx kg Modelo de 102kg Modelo de 85kg SECAR SINTÉTICOS  Um ciclo de secagem de temperatura baixa para roupas sensíveis ao calor3 3 RÁPIDO 15  Para peças levemente sujas com menos de 2 kg que você deseja lavar rapidamente2 2 LAVAGEM DIÁRIA  Para itens do dia a dia como roupas íntimas e camisas2 2 Opções Opção Descrição Intensivo  Para roupas muito sujas O tempo de operação para cada ciclo á mais longo do que o normal Prélavar  Isso adicionar um ciclo'),\n",
       " Document(metadata={'cid': 1, 'page': 31, 'source': 'WD10M44530W_03786S-00_BPT.pdf'}, page_content='para ligardesligar a lavadora de roupas Passos simples para iniciar 1 3 4 5 6 2 1 Pressione LigaDesliga para ligar a lavadora de roupas 2 Gire o Seletor de Ciclos para selecionar um ciclo 3 Mude os ajustes de ciclo Temp Centrifugar e Nível de Secagem conforme necessário 4 Para sua conveniência a máquina proporciona botões de fácil acesso para Adiar Fim Pressione o botão correspondente à opção que você deseja usar 5 Pressione Opções para adicionar uma opção Use a tecla novamente para escolher a')]"
      ]
     },
     "execution_count": 12,
     "metadata": {},
     "output_type": "execute_result"
    }
   ],
   "source": [
    "context = vector_store.similarity_search('como devo fazer para realizar a secagem de roupas', k=10)\n",
    "context"
   ]
  },
  {
   "cell_type": "markdown",
   "metadata": {},
   "source": [
    "**Juntando textos em uma única string**"
   ]
  },
  {
   "cell_type": "code",
   "execution_count": 13,
   "metadata": {},
   "outputs": [],
   "source": [
    "textos = '\\n\\n--\\n\\n'.join([d.page_content for d in context])"
   ]
  },
  {
   "cell_type": "markdown",
   "metadata": {},
   "source": [
    "### Chamada do modelo LLM passando os parâmetros de contexto e a pergunta realizada"
   ]
  },
  {
   "cell_type": "code",
   "execution_count": 17,
   "metadata": {},
   "outputs": [
    {
     "name": "stdout",
     "output_type": "stream",
     "text": [
      "Para realizar a secagem de roupas, siga os seguintes passos:\n",
      "\n",
      "1. Pressione o botão Liga/Desliga para ligar a lavadora de roupas.\n",
      "2. Use o Seletor de Ciclos para selecionar o ciclo de secagem apropriado.\n",
      "3. Pressione a tecla Nível de Secagem para escolher o modo de secagem desejado.\n",
      "4. Pressione a tecla Início/Pausa para iniciar o processo de secagem.\n",
      "\n",
      "Lembre-se de que é possível economizar água e energia ao adicionar o ciclo apropriado. Além disso, as opções de secagem, exceto a opção de Tempo de Secagem, detectam o peso das roupas para exibir um tempo de secagem mais preciso.\n"
     ]
    }
   ],
   "source": [
    "message = chain.invoke({'contexto': textos, 'pergunta': 'como devo fazer para realizar a secagem de roupas'})\n",
    "print(message.content)"
   ]
  }
 ],
 "metadata": {
  "kernelspec": {
   "display_name": ".venv",
   "language": "python",
   "name": "python3"
  },
  "language_info": {
   "codemirror_mode": {
    "name": "ipython",
    "version": 3
   },
   "file_extension": ".py",
   "mimetype": "text/x-python",
   "name": "python",
   "nbconvert_exporter": "python",
   "pygments_lexer": "ipython3",
   "version": "3.12.4"
  }
 },
 "nbformat": 4,
 "nbformat_minor": 2
}
